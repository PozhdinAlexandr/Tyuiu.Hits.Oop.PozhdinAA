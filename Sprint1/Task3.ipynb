{
 "cells": [
  {
   "cell_type": "markdown",
   "metadata": {},
   "source": [
    "<h1 style=\"color:DodgerBlue\">Индивидальный проект</h1>"
   ]
  },
  {
   "cell_type": "markdown",
   "metadata": {},
   "source": [
    "<h2 style=\"color:DodgerBlue\">Название проекта:</h2>\n",
    "\n",
    "----\n",
    "\n",
    "### Вариант задания №12 \n"
   ]
  },
  {
   "cell_type": "markdown",
   "metadata": {},
   "source": [
    "<h2 style=\"color:DodgerBlue\">Описание проекта:</h2>\n",
    "\n",
    "----\n",
    "\n",
    "Создать базовый класс Item в C#, который будет представлять информацию о товарах, которые могут быть заказаны или возвращены. На основе этого класса разработать 2-3 производных класса, демонстрирующих принципы наследования и полиморфизма. В каждом из классов должны быть реализованы новые атрибуты и методы, а также переопределены некоторые методы базового класса для демонстрации полиморфизма.\n",
    "\n",
    "<h2 style=\"color:DodgerBlue\">Требования к базовому классу Item:</h2>\n",
    "\n",
    "----\n",
    "\n",
    "• Атрибуты: ID товара (ItemId), Название (Name), Цена (Price).\n",
    "• Методы:\n",
    "o\n",
    "o GetDetails(): метод для получения детальной информации о товаре.\n",
    "o CalculateDiscount(): метод для расчета скидки на товар.\n",
    "o ApplyDiscount(decimal discount): метод для применения скидки к цене\n",
    "товара.\n",
    "\n",
    "<h2 style=\"color:DodgerBlue\">Требования к производным классам:</h2>\n",
    "\n",
    "----\n",
    "\n",
    "1. ЕдиничныйТовар (SingleItem): Должен содержать дополнительные атрибуты,\n",
    "такие как Единица измерения (UnitMeasure). Метод GetDetails() должен быть\n",
    "переопределен для добавления информации о единице измерения товара.\n",
    "2. ПакетныйТовар (PackageItem): Должен содержать дополнительные\n",
    "атрибуты, такие как Количество единиц в пакете (QuantityPerPackage).\n",
    "Метод CalculateDiscount() должен быть переопределен для учета количества\n",
    "единиц в пакете при расчете скидки.\n",
    "3. СпециальныйТовар (SpecialItem) (если требуется третий класс): Должен\n",
    "содержать дополнительные атрибуты, такие как Дата истечения скидки\n",
    "(DiscountExpirationDate). Метод ApplyDiscount() должен быть переопределен\n",
    "для добавления информации о сроке действия скидки.\n",
    "\n",
    "#### Дополнительное задание\n",
    "Добавьте к сущестующим классам конструктора классов с использованием гетторов и сетторов и реализуйте взаимодействие объектов между собой"
   ]
  },
  {
   "cell_type": "markdown",
   "metadata": {},
   "source": [
    "<h2 style=\"color:DodgerBlue\">Реализация:</h2>\n",
    "\n",
    "----"
   ]
  },
  {
   "cell_type": "code",
   "execution_count": 1,
   "metadata": {
    "dotnet_interactive": {
     "language": "csharp"
    },
    "polyglot_notebook": {
     "kernelName": "csharp"
    }
   },
   "outputs": [
    {
     "name": "stdout",
     "output_type": "stream",
     "text": [
      "ID: 1, Name: Apple, Price: ¤1.00, Unit Measure: kg\n",
      "ID: 2, Name: Cookies, Price: ¤5.00\n",
      "ID: 3, Name: Special Item, Price: ¤20.00\n",
      "Discount for PackageItem: ¤5.00\n",
      "Price after applying discount: ¤15.00\n"
     ]
    }
   ],
   "source": [
    "using System;\n",
    "\n",
    "\n",
    "public class Item\n",
    "{\n",
    "    public int ItemId { get; set; }\n",
    "    public string Name { get; set; }\n",
    "    public decimal Price { get; set; }\n",
    "\n",
    "    public Item(int itemId, string name, decimal price)\n",
    "    {\n",
    "        ItemId = itemId;\n",
    "        Name = name;\n",
    "        Price = price;\n",
    "    }\n",
    "\n",
    "    public virtual string GetDetails()\n",
    "    {\n",
    "        return $\"ID: {ItemId}, Name: {Name}, Price: {Price:C}\";\n",
    "    }\n",
    "\n",
    "    public virtual decimal CalculateDiscount()\n",
    "    {\n",
    "        return 0;\n",
    "    }\n",
    "\n",
    "    public virtual void ApplyDiscount(decimal discount)\n",
    "    {\n",
    "        Price -= discount;\n",
    "    }\n",
    "}\n",
    "\n",
    "public class SingleItem: Item\n",
    "{\n",
    "    public string UnitMeasure { get; set; }\n",
    "\n",
    "    public SingleItem(\n",
    "        int itemId, string name, decimal price, string unitMeasure\n",
    "        ) : base(itemId, name, price)\n",
    "    {\n",
    "        UnitMeasure = unitMeasure;\n",
    "    }\n",
    "\n",
    "    public override string GetDetails()\n",
    "    {\n",
    "       return base.GetDetails() + $\", Unit Measure: {UnitMeasure}\";\n",
    "    }\n",
    "}\n",
    "\n",
    "public class PackageItem: Item\n",
    "{\n",
    "    public int QuantityPerPackage { get; set; }\n",
    "\n",
    "    public PackageItem(int itemId, string name, decimal price, int quantityPerPackage) : base(itemId, name, price)\n",
    "    {\n",
    "        QuantityPerPackage = quantityPerPackage;\n",
    "    }\n",
    "\n",
    "    public override decimal CalculateDiscount()\n",
    "    {\n",
    "        return Price * QuantityPerPackage * 0.1m;\n",
    "    }\n",
    "}\n",
    "\n",
    "public class SpecialItem : Item\n",
    "{\n",
    "    public DateTime DiscountExpirationDate { get; set; }\n",
    "\n",
    "    public SpecialItem(int itemId, string name, decimal price, DateTime discountExpirationDate) \n",
    "        : base(itemId, name, price)\n",
    "    {\n",
    "        DiscountExpirationDate = discountExpirationDate;\n",
    "    }\n",
    "\n",
    "    public override void ApplyDiscount(decimal discount)\n",
    "    {\n",
    "        if (DateTime.Now <= DiscountExpirationDate)\n",
    "        {\n",
    "            Price -= discount;\n",
    "        }\n",
    "        else\n",
    "        {\n",
    "            Console.WriteLine(\"Скидка не может быть применена, так как срок действия истек.\");\n",
    "        }\n",
    "    }\n",
    "}\n",
    "\n",
    "Item singleItem = new SingleItem(1, \"Apple\", 1.00m, \"kg\");\n",
    "Item packageItem = new PackageItem(2, \"Cookies\", 5.00m, 10);\n",
    "Item specialItem = new SpecialItem(3, \"Special Item\", 20.00m, DateTime.Now.AddDays(5));\n",
    "\n",
    "Console.WriteLine(singleItem.GetDetails());\n",
    "Console.WriteLine(packageItem.GetDetails());\n",
    "Console.WriteLine(specialItem.GetDetails());\n",
    "\n",
    "Console.WriteLine($\"Discount for PackageItem: {packageItem.CalculateDiscount():C}\");\n",
    "        \n",
    "specialItem.ApplyDiscount(5);\n",
    "Console.WriteLine($\"Price after applying discount: {specialItem.Price:C}\");"
   ]
  }
 ],
 "metadata": {
  "kernelspec": {
   "display_name": ".NET (C#)",
   "language": "C#",
   "name": ".net-csharp"
  },
  "polyglot_notebook": {
   "kernelInfo": {
    "defaultKernelName": "csharp",
    "items": [
     {
      "aliases": [],
      "languageName": "csharp",
      "name": "csharp"
     }
    ]
   }
  }
 },
 "nbformat": 4,
 "nbformat_minor": 2
}
