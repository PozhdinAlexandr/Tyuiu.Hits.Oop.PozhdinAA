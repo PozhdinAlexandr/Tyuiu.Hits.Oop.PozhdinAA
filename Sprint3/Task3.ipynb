{
 "cells": [
  {
   "cell_type": "markdown",
   "metadata": {},
   "source": [
    "<h1 style=\"color:DodgerBlue\">Индивидальный проект</h1>"
   ]
  },
  {
   "cell_type": "markdown",
   "metadata": {},
   "source": [
    "<h2 style=\"color:DodgerBlue\">Название проекта:</h2>\n",
    "\n",
    "----\n",
    "\n",
    "### Вариант задания №12 "
   ]
  },
  {
   "cell_type": "markdown",
   "metadata": {},
   "source": [
    "<h2 style=\"color:DodgerBlue\">Описание проекта:</h2>\n",
    "\n",
    "----\n",
    "\n",
    "Создать базовый класс Item в C#, который будет представлять информацию о товарах, которые могут быть заказаны или возвращены. На основе этого класса разработать 2-3 производных класса, демонстрирующих принципы наследования и полиморфизма. В каждом из классов должны быть реализованы новые атрибуты и методы, а также переопределены некоторые методы базового класса для демонстрации полиморфизма.\n",
    "\n",
    "<h2 style=\"color:DodgerBlue\">Требования к базовому классу Item:</h2>\n",
    "\n",
    "----\n",
    "\n",
    "• Атрибуты: ID товара (ItemId), Название (Name), Цена (Price).\n",
    "• Методы:\n",
    "o\n",
    "o GetDetails(): метод для получения детальной информации о товаре.\n",
    "o CalculateDiscount(): метод для расчета скидки на товар.\n",
    "o ApplyDiscount(decimal discount): метод для применения скидки к цене\n",
    "товара.\n",
    "\n",
    "<h2 style=\"color:DodgerBlue\">Требования к производным классам:</h2>\n",
    "\n",
    "----\n",
    "\n",
    "1. ЕдиничныйТовар (SingleItem): Должен содержать дополнительные атрибуты,\n",
    "такие как Единица измерения (UnitMeasure). Метод GetDetails() должен быть\n",
    "переопределен для добавления информации о единице измерения товара.\n",
    "2. ПакетныйТовар (PackageItem): Должен содержать дополнительные\n",
    "атрибуты, такие как Количество единиц в пакете (QuantityPerPackage).\n",
    "Метод CalculateDiscount() должен быть переопределен для учета количества\n",
    "единиц в пакете при расчете скидки.\n",
    "3. СпециальныйТовар (SpecialItem) (если требуется третий класс): Должен\n",
    "содержать дополнительные атрибуты, такие как Дата истечения скидки\n",
    "(DiscountExpirationDate). Метод ApplyDiscount() должен быть переопределен\n",
    "для добавления информации о сроке действия скидки.\n",
    "\n",
    "#### Дополнительное задание\n",
    "Добавьте к сущестующим классам (базовыму и производным 3-4 атрибута и метода) и реализуйте полиморфизм с перекрытием и прегегрузкой методов, а также generic классы"
   ]
  },
  {
   "cell_type": "markdown",
   "metadata": {},
   "source": [
    "<h2 style=\"color:DodgerBlue\">Реализация:</h2>\n",
    "\n",
    "----"
   ]
  },
  {
   "cell_type": "code",
   "execution_count": 15,
   "metadata": {
    "dotnet_interactive": {
     "language": "csharp"
    },
    "polyglot_notebook": {
     "kernelName": "csharp"
    }
   },
   "outputs": [
    {
     "name": "stdout",
     "output_type": "stream",
     "text": [
      "ID: 1, Name: Apple, Price: ¤1.00, Description: A single item, Category: Fruits, Created Date: 11/5/2024, Available: True, Unit Measure: kg, Origin Country: USA\n",
      "ID: 2, Name: Cookies, Price: ¤5.00, Description: A package of items, Category: Snacks, Created Date: 11/5/2024, Available: True, Quantity Per Package: 10, Total Price: ¤50.00\n",
      "ID: 3, Name: Special Item, Price: ¤20.00, Description: A special item, Category: Limited Edition, Created Date: 11/5/2024, Available: True, Discount Expiration Date: 11/10/2024\n",
      "Price after applying discount to Special Item: ¤15.00\n"
     ]
    }
   ],
   "source": [
    "using System;\n",
    "\n",
    "// Базовый класс\n",
    "public class Item\n",
    "{\n",
    "    public int ItemId { get; set; }\n",
    "    public string Name { get; set; }\n",
    "    public decimal Price { get; set; }\n",
    "    public string Description { get; set; }\n",
    "    public string Category { get; set; } // Новый атрибут\n",
    "    public DateTime CreatedDate { get; set; } // Новый атрибут\n",
    "    public bool IsAvailable { get; set; } // Новый атрибут\n",
    "\n",
    "    public Item(int itemId, string name, decimal price, string description, string category, DateTime createdDate)\n",
    "    {\n",
    "        ItemId = itemId;\n",
    "        Name = name;\n",
    "        Price = price;\n",
    "        Description = description;\n",
    "        Category = category;\n",
    "        CreatedDate = createdDate;\n",
    "        IsAvailable = true; // По умолчанию доступен\n",
    "    }\n",
    "\n",
    "    public virtual string GetDetails() =>\n",
    "        $\"ID: {ItemId}, Name: {Name}, Price: {Price:C}, Description: {Description}, Category: {Category}, Created Date: {CreatedDate.ToShortDateString()}, Available: {IsAvailable}\";\n",
    "\n",
    "    public virtual void ApplyDiscount(decimal discount) => Price -= discount;\n",
    "\n",
    "    public virtual void Restock(int quantity) => IsAvailable = true; // Метод для пополнения запасов\n",
    "}\n",
    "\n",
    "// Производный класс SingleItem\n",
    "public class SingleItem : Item\n",
    "{\n",
    "    public string UnitMeasure { get; set; }\n",
    "    public string OriginCountry { get; set; }\n",
    "\n",
    "    public SingleItem(int itemId, string name, decimal price, string unitMeasure, string originCountry, string category, DateTime createdDate) \n",
    "        : base(itemId, name, price, \"A single item\", category, createdDate)\n",
    "    {\n",
    "        UnitMeasure = unitMeasure;\n",
    "        OriginCountry = originCountry;\n",
    "    }\n",
    "\n",
    "    public override string GetDetails() =>\n",
    "        base.GetDetails() + $\", Unit Measure: {UnitMeasure}, Origin Country: {OriginCountry}\";\n",
    "\n",
    "    // Перегрузка метода ApplyDiscount\n",
    "    public override void ApplyDiscount(decimal discount) => Price -= discount * 0.9m; // Скидка 10%\n",
    "}\n",
    "\n",
    "// Производный класс PackageItem\n",
    "public class PackageItem : Item\n",
    "{\n",
    "    public int QuantityPerPackage { get; set; }\n",
    "\n",
    "    public PackageItem(int itemId, string name, decimal price, int quantityPerPackage, string category, DateTime createdDate) \n",
    "        : base(itemId, name, price, \"A package of items\", category, createdDate)\n",
    "    {\n",
    "        QuantityPerPackage = quantityPerPackage;\n",
    "    }\n",
    "\n",
    "    public decimal GetTotalPrice() => Price * QuantityPerPackage;\n",
    "\n",
    "    // Перегрузка метода GetDetails\n",
    "    public override string GetDetails() =>\n",
    "        base.GetDetails() + $\", Quantity Per Package: {QuantityPerPackage}, Total Price: {GetTotalPrice():C}\";\n",
    "}\n",
    "\n",
    "// Производный класс SpecialItem\n",
    "public class SpecialItem : Item\n",
    "{\n",
    "    public DateTime DiscountExpirationDate { get; set; }\n",
    "\n",
    "    public SpecialItem(int itemId, string name, decimal price, DateTime discountExpirationDate, string category, DateTime createdDate) \n",
    "        : base(itemId, name, price, \"A special item\", category, createdDate)\n",
    "    {\n",
    "        DiscountExpirationDate = discountExpirationDate;\n",
    "    }\n",
    "\n",
    "    public override void ApplyDiscount(decimal discount)\n",
    "    {\n",
    "        if (IsDiscountValid()) Price -= discount;\n",
    "        else Console.WriteLine(\"Скидка не может быть применена, так как срок действия истек.\");\n",
    "    }\n",
    "\n",
    "    private bool IsDiscountValid() => DateTime.Now <= DiscountExpirationDate;\n",
    "\n",
    "    // Перегрузка метода GetDetails\n",
    "    public override string GetDetails() =>\n",
    "        base.GetDetails() + $\", Discount Expiration Date: {DiscountExpirationDate.ToShortDateString()}\";\n",
    "}\n",
    "\n",
    "// Generic класс для управления коллекцией элементов\n",
    "public class ItemCollection<T> where T : Item\n",
    "{\n",
    "    private List<T> items = new List<T>();\n",
    "\n",
    "    public void AddItem(T item) => items.Add(item);\n",
    "    \n",
    "    public void RemoveItem(int itemId) => items.RemoveAll(i => i.ItemId == itemId);\n",
    "\n",
    "    public T FindItem(int itemId) => items.Find(i => i.ItemId == itemId);\n",
    "\n",
    "    public void ShowAllItems()\n",
    "    {\n",
    "        foreach (var item in items)\n",
    "        {\n",
    "            Console.WriteLine(item.GetDetails());\n",
    "        }\n",
    "    }\n",
    "}\n",
    "\n",
    "// Пример использования\n",
    "var singleItem = new SingleItem(1, \"Apple\", 1.00m, \"kg\", \"USA\", \"Fruits\", DateTime.Now);\n",
    "var packageItem = new PackageItem(2, \"Cookies\", 5.00m, 10, \"Snacks\", DateTime.Now);\n",
    "var specialItem = new SpecialItem(3, \"Special Item\", 20.00m, DateTime.Now.AddDays(5), \"Limited Edition\", DateTime.Now);\n",
    "\n",
    "var itemCollection = new ItemCollection<Item>();\n",
    "itemCollection.AddItem(singleItem);\n",
    "itemCollection.AddItem(packageItem);\n",
    "itemCollection.AddItem(specialItem);\n",
    "\n",
    "itemCollection.ShowAllItems();\n",
    "\n",
    "specialItem.ApplyDiscount(5);\n",
    "Console.WriteLine($\"Price after applying discount to Special Item: {specialItem.Price:C}\");\n"
   ]
  }
 ],
 "metadata": {
  "kernelspec": {
   "display_name": ".NET (C#)",
   "language": "C#",
   "name": ".net-csharp"
  },
  "polyglot_notebook": {
   "kernelInfo": {
    "defaultKernelName": "csharp",
    "items": [
     {
      "aliases": [],
      "languageName": "csharp",
      "name": "csharp"
     }
    ]
   }
  }
 },
 "nbformat": 4,
 "nbformat_minor": 2
}
